{
 "cells": [
  {
   "cell_type": "code",
   "execution_count": null,
   "id": "bb0d0333-aab3-4f7b-8345-852f8db76f32",
   "metadata": {
    "microsoft": {
     "language": "python",
     "language_group": "jupyter_python"
    }
   },
   "outputs": [],
   "source": [
    "target_warehouse_name = \"taxi_warehouse01\" # 作成済みのウェアハウスの名前\n",
    "target_dataset_name = \"taxi_trip_bi_model\" # 作成したいセマンティックモデルの名前"
   ]
  },
  {
   "cell_type": "code",
   "execution_count": null,
   "id": "15f6bc09-5f02-464c-8561-61f907c5eee6",
   "metadata": {
    "microsoft": {
     "language": "python",
     "language_group": "jupyter_python"
    }
   },
   "outputs": [],
   "source": [
    "%pip install semantic-link-labs"
   ]
  },
  {
   "cell_type": "code",
   "execution_count": null,
   "id": "e0d6634a-2b80-4ccf-a855-da6670c0d66e",
   "metadata": {
    "microsoft": {
     "language": "python",
     "language_group": "jupyter_python"
    }
   },
   "outputs": [],
   "source": [
    "import sempy.fabric as fabric\n",
    "import sempy_labs as labs\n",
    "\n",
    "labs.deploy_semantic_model(\n",
    "        source_dataset = target_warehouse_name,\n",
    "        target_dataset = target_dataset_name,\n",
    "        overwrite = True\n",
    "    )"
   ]
  }
 ],
 "metadata": {
  "dependencies": {},
  "kernel_info": {
   "jupyter_kernel_name": "python3.11",
   "name": "jupyter"
  },
  "kernelspec": {
   "display_name": "Jupyter",
   "language": "Jupyter",
   "name": "jupyter"
  },
  "language_info": {
   "name": "python"
  },
  "microsoft": {
   "language": "python",
   "language_group": "jupyter_python"
  },
  "nteract": {
   "version": "nteract-front-end@1.0.0"
  },
  "spark_compute": {
   "compute_id": "/trident/default",
   "session_options": {
    "conf": {
     "spark.synapse.nbs.session.timeout": "1200000"
    }
   }
  }
 },
 "nbformat": 4,
 "nbformat_minor": 5
}
